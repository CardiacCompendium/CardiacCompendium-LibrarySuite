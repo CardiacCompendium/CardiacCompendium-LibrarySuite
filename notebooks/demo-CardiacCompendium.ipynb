{
 "cells": [
  {
   "cell_type": "code",
   "execution_count": 1,
   "id": "46fea6fb-414c-4743-bc4c-77d31edce3a8",
   "metadata": {},
   "outputs": [
    {
     "ename": "ERROR",
     "evalue": "Error in library(iSEEindex): there is no package called ‘iSEEindex’\n",
     "output_type": "error",
     "traceback": [
      "Error in library(iSEEindex): there is no package called ‘iSEEindex’\nTraceback:\n",
      "1. library(iSEEindex)"
     ]
    }
   ],
   "source": [
    "library(iSEEindex)\n",
    "# library(synapser)\n",
    "library(BiocFileCache)"
   ]
  },
  {
   "cell_type": "code",
   "execution_count": 2,
   "id": "40f13a75-50ca-42ba-8bbd-a572bf06c194",
   "metadata": {},
   "outputs": [
    {
     "ename": "ERROR",
     "evalue": "Error in BiocFileCache(\"../cache\", ask = FALSE): could not find function \"BiocFileCache\"\n",
     "output_type": "error",
     "traceback": [
      "Error in BiocFileCache(\"../cache\", ask = FALSE): could not find function \"BiocFileCache\"\nTraceback:\n"
     ]
    }
   ],
   "source": [
    "bfc <- BiocFileCache('../cache', ask=FALSE)\n",
    "dataset_fun <- function() {\n",
    "    x <- yaml::read_yaml(\"../DataRegistry/iSEE-CardiacCompendium.yaml\")\n",
    "    x$datasets\n",
    "}\n",
    "\n",
    "initial_fun <- function() {\n",
    "    x <- yaml::read_yaml(\"../DataRegistry/iSEE-CardiacCompendium.yaml\")\n",
    "    x$initial\n",
    "}\n",
    "\n",
    "app <- iSEEindex(bfc, dataset_fun,initial_fun)\n",
    "shiny::runApp(app, port = 3838, host = \"0.0.0.0\")"
   ]
  },
  {
   "cell_type": "code",
   "execution_count": null,
   "id": "4c7d4c42-10d1-4bc2-9250-30638c8bc1a1",
   "metadata": {},
   "outputs": [],
   "source": []
  }
 ],
 "metadata": {
  "kernelspec": {
   "display_name": "R",
   "language": "R",
   "name": "ir"
  },
  "language_info": {
   "codemirror_mode": "r",
   "file_extension": ".r",
   "mimetype": "text/x-r-source",
   "name": "R",
   "pygments_lexer": "r",
   "version": "4.3.1"
  }
 },
 "nbformat": 4,
 "nbformat_minor": 5
}
